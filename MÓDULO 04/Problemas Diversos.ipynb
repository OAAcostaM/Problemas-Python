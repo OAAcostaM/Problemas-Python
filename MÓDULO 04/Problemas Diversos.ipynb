{
 "cells": [
  {
   "cell_type": "markdown",
   "metadata": {},
   "source": [
    "# PROBLEMAS DIVERSOS"
   ]
  },
  {
   "cell_type": "markdown",
   "metadata": {},
   "source": [
    "<h3>1. Ficheros</h3>\n",
    "Escribir una función que pida un número entero entre 1 y 10 y guarde en un fichero con el nombre tabla-n.txt la tabla de multiplicar de ese número, done n es el número introducido."
   ]
  },
  {
   "cell_type": "code",
   "execution_count": 1,
   "metadata": {},
   "outputs": [],
   "source": [
    "def comprobacion_rango (num) :\n",
    "    if num > 0 and num <= 10 :\n",
    "        return True\n",
    "    return False"
   ]
  },
  {
   "cell_type": "code",
   "execution_count": 2,
   "metadata": {},
   "outputs": [],
   "source": [
    "def validacion () :\n",
    "    bandera = False\n",
    "    while bandera == False :\n",
    "        while True :\n",
    "            try :\n",
    "                n = int(input(\"Digite un número entre 1 y 10: \"))\n",
    "            except :\n",
    "                print(\"Ha ocurrido un error, introduce bien el número\")\n",
    "            else :\n",
    "                break\n",
    "        bandera = comprobacion_rango(n)\n",
    "    \n",
    "    return n"
   ]
  },
  {
   "cell_type": "code",
   "execution_count": 3,
   "metadata": {},
   "outputs": [
    {
     "name": "stdin",
     "output_type": "stream",
     "text": [
      "Digite un número entre 1 y 10:  7\n"
     ]
    }
   ],
   "source": [
    "numero = validacion()"
   ]
  },
  {
   "cell_type": "code",
   "execution_count": 4,
   "metadata": {},
   "outputs": [],
   "source": [
    "with open('./src/tabla-n.txt','w') as f :\n",
    "    number = \"El número es: {}\\n\".format(numero)\n",
    "    f.write(number)"
   ]
  },
  {
   "cell_type": "code",
   "execution_count": 5,
   "metadata": {},
   "outputs": [],
   "source": [
    "with open('./src/tabla-n.txt','a') as f :\n",
    "    for i in range(1,11) :\n",
    "        texto = \"{} x {} = {}\\n\".format(numero,i,(i*numero))\n",
    "        f.write(str(texto))"
   ]
  },
  {
   "cell_type": "code",
   "execution_count": 6,
   "metadata": {},
   "outputs": [
    {
     "name": "stdout",
     "output_type": "stream",
     "text": [
      "El número es: 7\n",
      "\n",
      "7 x 1 = 7\n",
      "\n",
      "7 x 2 = 14\n",
      "\n",
      "7 x 3 = 21\n",
      "\n",
      "7 x 4 = 28\n",
      "\n",
      "7 x 5 = 35\n",
      "\n",
      "7 x 6 = 42\n",
      "\n",
      "7 x 7 = 49\n",
      "\n",
      "7 x 8 = 56\n",
      "\n",
      "7 x 9 = 63\n",
      "\n",
      "7 x 10 = 70\n",
      "\n"
     ]
    }
   ],
   "source": [
    "with open('./src/tabla-n.txt','r') as f :\n",
    "    for linea in f :\n",
    "        print(linea)"
   ]
  },
  {
   "cell_type": "markdown",
   "metadata": {},
   "source": [
    "<h3>2.</h3>\n",
    "Escribir una función que pida un número entero entre 1 y 10, lea el fichero tabla-n.txt con la tabla de multiplicar de ese número, done n es el número introducido, y la muestre por pantalla. Si el fichero no existe debe mostrar un mensaje por pantalla informando de ello."
   ]
  },
  {
   "cell_type": "code",
   "execution_count": 12,
   "metadata": {},
   "outputs": [],
   "source": [
    "def comprobacion_rango (num) :\n",
    "    if num > 0 and num <= 10 :\n",
    "        return True\n",
    "    return False"
   ]
  },
  {
   "cell_type": "code",
   "execution_count": 13,
   "metadata": {},
   "outputs": [],
   "source": [
    "def validacion () :\n",
    "    bandera = False\n",
    "    while bandera == False :\n",
    "        while True :\n",
    "            try :\n",
    "                n = int(input(\"Digite un número entre 1 y 10: \"))\n",
    "            except :\n",
    "                print(\"Ha ocurrido un error, introduce bien el número\")\n",
    "            else :\n",
    "                break\n",
    "        bandera = comprobacion_rango(n)\n",
    "    \n",
    "    return n"
   ]
  },
  {
   "cell_type": "code",
   "execution_count": 14,
   "metadata": {},
   "outputs": [
    {
     "name": "stdin",
     "output_type": "stream",
     "text": [
      "Digite un número entre 1 y 10:  7\n"
     ]
    }
   ],
   "source": [
    "numero = validacion()"
   ]
  },
  {
   "cell_type": "code",
   "execution_count": 16,
   "metadata": {},
   "outputs": [
    {
     "name": "stdout",
     "output_type": "stream",
     "text": [
      "El número es: 7\n",
      "\n",
      "7 x 1 = 7\n",
      "\n",
      "7 x 2 = 14\n",
      "\n",
      "7 x 3 = 21\n",
      "\n",
      "7 x 4 = 28\n",
      "\n",
      "7 x 5 = 35\n",
      "\n",
      "7 x 6 = 42\n",
      "\n",
      "7 x 7 = 49\n",
      "\n",
      "7 x 8 = 56\n",
      "\n",
      "7 x 9 = 63\n",
      "\n",
      "7 x 10 = 70\n",
      "\n"
     ]
    }
   ],
   "source": [
    "while True :\n",
    "    try :\n",
    "        fichero = open('./src/tabla-n.txt','r+') \n",
    "        fichero.close()\n",
    "        \n",
    "        with open('./src/tabla-n.txt','w') as f :\n",
    "            \n",
    "            number = \"El número es: {}\\n\".format(numero)\n",
    "            f.write(number)\n",
    "            \n",
    "            for i in range(1,11) :\n",
    "                texto = \"{} x {} = {}\\n\".format(numero,i,(i*numero))\n",
    "                f.write(str(texto))\n",
    "                \n",
    "        with open('./src/tabla-n.txt','r') as f :\n",
    "            for linea in f :\n",
    "                print(linea)\n",
    "    except :\n",
    "        print(\"Ha ocurrido un error, fichero no encontrado\")\n",
    "        break\n",
    "    else :\n",
    "        break"
   ]
  },
  {
   "cell_type": "code",
   "execution_count": null,
   "metadata": {},
   "outputs": [],
   "source": []
  },
  {
   "cell_type": "markdown",
   "metadata": {},
   "source": [
    "<h3>3.</h3>\n",
    "\n",
    "Escribir una función que pida dos números n y m entre 1 y 10, lea el fichero tabla-n.txt con la tabla de multiplicar de ese número, y muestre por pantalla la línea m del fichero. Si el fichero no existe debe mostrar un mensaje por pantalla informando de ello."
   ]
  },
  {
   "cell_type": "code",
   "execution_count": null,
   "metadata": {},
   "outputs": [],
   "source": [
    "def comprobacion_rango (num) :\n",
    "    if num > 0 and num <= 10 :\n",
    "        return True\n",
    "    return False"
   ]
  },
  {
   "cell_type": "code",
   "execution_count": null,
   "metadata": {},
   "outputs": [],
   "source": [
    "def validacion1 () :\n",
    "    bandera = False\n",
    "    while bandera == False :\n",
    "        while True :\n",
    "            try :\n",
    "                n = int(input(\"Digite un número entre 1 y 10: \"))\n",
    "            except :\n",
    "                print(\"Ha ocurrido un error, introduce bien el número\")\n",
    "            else :\n",
    "                break\n",
    "        bandera = comprobacion_rango(n)\n",
    "    \n",
    "    return n"
   ]
  },
  {
   "cell_type": "code",
   "execution_count": null,
   "metadata": {},
   "outputs": [],
   "source": [
    "def validacion2 () :\n",
    "    bandera = False\n",
    "    while bandera == False :\n",
    "        while True :\n",
    "            try :\n",
    "                m = int(input(\"Digite otro número entre 1 y 10: \"))\n",
    "            except :\n",
    "                print(\"Ha ocurrido un error, introduce bien el número\")\n",
    "            else :\n",
    "                break\n",
    "        bandera = comprobacion_rango(n)\n",
    "    \n",
    "    return m"
   ]
  },
  {
   "cell_type": "code",
   "execution_count": null,
   "metadata": {},
   "outputs": [],
   "source": [
    "n = validacion1()\n",
    "print(\"\")\n",
    "m = validacion2()"
   ]
  },
  {
   "cell_type": "code",
   "execution_count": null,
   "metadata": {},
   "outputs": [],
   "source": [
    "while True :\n",
    "    try :\n",
    "        fichero = open('./src/tabla-n.txt','r+') \n",
    "        fichero.close()\n",
    "        \n",
    "        with open('./src/tabla-n.txt','w') as f :\n",
    "            \n",
    "            number = \"El número es: {}\\n\".format(n)\n",
    "            f.write(number)\n",
    "            \n",
    "            for i in range(1,11) :\n",
    "                texto = \"{} x {} = {}\\n\".format(n,i,(i*n))\n",
    "                f.write(str(texto))\n",
    "                \n",
    "                \n",
    "        with open('./src/tabla-n.txt','r+') as f :\n",
    "                \n",
    "            texto = f.readlines()\n",
    "            print(texto[m])\n",
    "            \n",
    "    except :\n",
    "        print(\"Ha ocurrido un error, fichero no encontrado\")\n",
    "        break\n",
    "    else :\n",
    "        break"
   ]
  },
  {
   "cell_type": "code",
   "execution_count": null,
   "metadata": {},
   "outputs": [],
   "source": []
  },
  {
   "cell_type": "markdown",
   "metadata": {},
   "source": [
    "<h3>4. Expresiones Regulares</h3>\n",
    "sda\n"
   ]
  },
  {
   "cell_type": "code",
   "execution_count": null,
   "metadata": {},
   "outputs": [],
   "source": []
  }
 ],
 "metadata": {
  "kernelspec": {
   "display_name": "Python 3",
   "language": "python",
   "name": "python3"
  },
  "language_info": {
   "codemirror_mode": {
    "name": "ipython",
    "version": 3
   },
   "file_extension": ".py",
   "mimetype": "text/x-python",
   "name": "python",
   "nbconvert_exporter": "python",
   "pygments_lexer": "ipython3",
   "version": "3.8.5"
  }
 },
 "nbformat": 4,
 "nbformat_minor": 4
}
