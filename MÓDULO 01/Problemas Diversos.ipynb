{
 "cells": [
  {
   "cell_type": "markdown",
   "metadata": {},
   "source": [
    "# PROBLEMAS DIVERSOS"
   ]
  },
  {
   "cell_type": "markdown",
   "metadata": {},
   "source": [
    "<h3>1.</h3>\n",
    "Imagina que acabas de abrir una nueva cuenta de ahorros que te ofrece el 4% de interés al año. Estos ahorros debido a intereses, que no se cobran hasta finales de año, se te añaden al balance final de tu cuenta de ahorros. Escribir un programa que comience leyendo la cantidad de dinero depositada en la cuenta de ahorros, introducida por el usuario. Después el programa debe calcular y mostrar por pantalla la cantidad de ahorros tras el primer, segundo y tercer años. Redondear cada cantidad a dos decimales."
   ]
  },
  {
   "cell_type": "code",
   "execution_count": 9,
   "metadata": {},
   "outputs": [
    {
     "name": "stdin",
     "output_type": "stream",
     "text": [
      "Digite el dinero para su cuenta de ahorro:  1200\n"
     ]
    }
   ],
   "source": [
    "dinero = float(input(\"Digite el dinero para su cuenta de ahorro: \"))"
   ]
  },
  {
   "cell_type": "code",
   "execution_count": 10,
   "metadata": {},
   "outputs": [],
   "source": [
    "primer = dinero + dinero * 0.04\n",
    "segundo =  primer + primer* 0.04\n",
    "tercer = segundo + segundo * 0.04\n",
    "total = primer + segundo + tercer"
   ]
  },
  {
   "cell_type": "code",
   "execution_count": 11,
   "metadata": {},
   "outputs": [
    {
     "name": "stdout",
     "output_type": "stream",
     "text": [
      "En el primer año tuvo un saldo de:  1248.0\n"
     ]
    }
   ],
   "source": [
    "print(\"En el primer año tuvo un saldo de: \",round(primer,2))"
   ]
  },
  {
   "cell_type": "code",
   "execution_count": 12,
   "metadata": {},
   "outputs": [
    {
     "name": "stdout",
     "output_type": "stream",
     "text": [
      "En el segundo año tuvo un saldo de:  1297.92\n"
     ]
    }
   ],
   "source": [
    "print(\"En el segundo año tuvo un saldo de: \",round(segundo,2))"
   ]
  },
  {
   "cell_type": "code",
   "execution_count": 13,
   "metadata": {},
   "outputs": [
    {
     "name": "stdout",
     "output_type": "stream",
     "text": [
      "En el tercer año tuvo un saldo de:  1349.84\n"
     ]
    }
   ],
   "source": [
    "print(\"En el tercer año tuvo un saldo de: \",round(tercer,2))"
   ]
  },
  {
   "cell_type": "code",
   "execution_count": 14,
   "metadata": {},
   "outputs": [
    {
     "name": "stdout",
     "output_type": "stream",
     "text": [
      "El saldo total es:  3895.76\n"
     ]
    }
   ],
   "source": [
    "print(\"El saldo total es: \",round(total,2))"
   ]
  },
  {
   "cell_type": "markdown",
   "metadata": {},
   "source": [
    "### 2.\n",
    "Escriba un programa que pida los coeficientes de una ecuación de segundo grado <code>(a x² + b x + c = 0)</code> y escriba la solución.\n",
    "\n",
    "Se recuerda que una ecuación de segundo grado puede no tener solución, tener una solución única, tener dos soluciones o que todos los números sean solución."
   ]
  },
  {
   "cell_type": "markdown",
   "metadata": {},
   "source": [
    "<img src='https://i.pinimg.com/originals/d3/f7/01/d3f701528ad56ce0f5a98d7c91722fd7.png'>"
   ]
  },
  {
   "cell_type": "markdown",
   "metadata": {},
   "source": [
    "Su programa debe indicar:\n",
    "- En caso la ecuación cuadrática tenga solución real, su programa debe brindar la solución\n",
    "- En caso su ecuación no tenga solución real, su programa debe brindar un mensaje que diga \"Ecuación no presenta solución real\""
   ]
  },
  {
   "cell_type": "code",
   "execution_count": 8,
   "metadata": {},
   "outputs": [
    {
     "name": "stdout",
     "output_type": "stream",
     "text": [
      "Siendo la ecuacion de segundo grado: a x² + b x + c = 0\n"
     ]
    }
   ],
   "source": [
    "import math\n",
    "print(\"Siendo la ecuacion de segundo grado: a x² + b x + c = 0\")"
   ]
  },
  {
   "cell_type": "code",
   "execution_count": 9,
   "metadata": {},
   "outputs": [
    {
     "name": "stdin",
     "output_type": "stream",
     "text": [
      "Digite el coeficiente a:  2\n"
     ]
    }
   ],
   "source": [
    "a = int(input(\"Digite el coeficiente a: \"))"
   ]
  },
  {
   "cell_type": "code",
   "execution_count": 10,
   "metadata": {},
   "outputs": [
    {
     "name": "stdin",
     "output_type": "stream",
     "text": [
      "Digite el coeficiente b:  4\n"
     ]
    }
   ],
   "source": [
    "b = int(input(\"Digite el coeficiente b: \"))"
   ]
  },
  {
   "cell_type": "code",
   "execution_count": 11,
   "metadata": {},
   "outputs": [
    {
     "name": "stdin",
     "output_type": "stream",
     "text": [
      "Digite el coeficiente c:  -6\n"
     ]
    }
   ],
   "source": [
    "c = int(input(\"Digite el coeficiente c: \"))"
   ]
  },
  {
   "cell_type": "code",
   "execution_count": 12,
   "metadata": {},
   "outputs": [
    {
     "name": "stdout",
     "output_type": "stream",
     "text": [
      "La ecuacion es: 2 x² + 4 x + -6\n"
     ]
    }
   ],
   "source": [
    "print(\"La ecuacion es:\",a,\"x² +\",b,\"x +\",c)"
   ]
  },
  {
   "cell_type": "code",
   "execution_count": 13,
   "metadata": {},
   "outputs": [
    {
     "name": "stdout",
     "output_type": "stream",
     "text": [
      "Las dos soluciones de la escuacion son: x1= -12.0 ; x2= 4.0\n"
     ]
    }
   ],
   "source": [
    "discriminante = b**2 - 4*a*c\n",
    "if discriminante < 0 :\n",
    "    print(\"Valores inválidos, discriminante negatico\")\n",
    "else :\n",
    "    xposi = (-b + math.sqrt(discriminante)) / 2*a  \n",
    "    xnega = (-b - math.sqrt(discriminante)) / 2*a \n",
    "    if xposi == xnega :\n",
    "        print(\"La ecuacion tiene solucion unica: x=\",xposi)\n",
    "    else :\n",
    "        print(\"Las dos soluciones de la escuacion son: x1=\",xnega,\"; x2=\",xposi)"
   ]
  }
 ],
 "metadata": {
  "kernelspec": {
   "display_name": "Python 3",
   "language": "python",
   "name": "python3"
  },
  "language_info": {
   "codemirror_mode": {
    "name": "ipython",
    "version": 3
   },
   "file_extension": ".py",
   "mimetype": "text/x-python",
   "name": "python",
   "nbconvert_exporter": "python",
   "pygments_lexer": "ipython3",
   "version": "3.8.5"
  }
 },
 "nbformat": 4,
 "nbformat_minor": 4
}
