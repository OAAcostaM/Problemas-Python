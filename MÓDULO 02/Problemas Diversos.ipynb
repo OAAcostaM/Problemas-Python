{
 "cells": [
  {
   "cell_type": "markdown",
   "metadata": {},
   "source": [
    "# PROBLEMAS DIVERSOS"
   ]
  },
  {
   "cell_type": "markdown",
   "metadata": {},
   "source": [
    "<h3>1.</h3>\n",
    "Realizar una función que permita la carga de n alumnos. Por cada alumno se deberá preguntar el nombre completo y permitir el ingreso de 3 notas. Las notas deben estar comprendidas entre 0 y 10. Devolver el listado de alumnos."
   ]
  },
  {
   "cell_type": "code",
   "execution_count": null,
   "metadata": {},
   "outputs": [],
   "source": [
    "def evaluar_nota1(not1) :\n",
    "    if nota1 >= 0 and nota1 <= 10 :\n",
    "        return True\n",
    "    return False\n",
    "\n",
    "def evaluar_nota2(not2) :\n",
    "    if nota2 >= 0 and nota2 <= 10 :\n",
    "        return True\n",
    "    return False\n",
    "\n",
    "def evaluar_nota3(not3) :\n",
    "    if nota3 >= 0 and nota3 <= 10 :\n",
    "        return True\n",
    "    return False"
   ]
  },
  {
   "cell_type": "code",
   "execution_count": null,
   "metadata": {},
   "outputs": [],
   "source": [
    "def llenado_datos(nomb, not1, not2, not3,contador) :\n",
    "    alumno = {\n",
    "        'Alumno {}'.format(contador) : nomb.upper(),\n",
    "        'Nota1' : not1,\n",
    "        'Nota2' : not2,\n",
    "        'Nota3' : not3\n",
    "    }\n",
    "    return alumno"
   ]
  },
  {
   "cell_type": "code",
   "execution_count": null,
   "metadata": {},
   "outputs": [],
   "source": [
    "cant = int(input(\"Digite la cantidad de alumnos: \"))\n",
    "lista = list()\n",
    "alumno = {}\n",
    "cont = 1\n",
    "for i in range(1,cant+1) :\n",
    "    nombre = input(\"\\nNombre completo de alumno {}: \".format(cont))\n",
    "    bandera_nota1 = False\n",
    "    bandera_nota2 = False\n",
    "    bandera_nota3 = False\n",
    "    while bandera_nota1 == False :\n",
    "        nota1 = float(input(\"Nota1 del alumno: \"))\n",
    "        bandera_nota1 = evaluar_nota1(nota1)\n",
    "    while bandera_nota2 == False :\n",
    "        nota2 = float(input(\"Nota2 del alumno: \"))\n",
    "        bandera_nota2 = evaluar_nota2(nota2)\n",
    "    while bandera_nota3 == False :\n",
    "        nota3 = float(input(\"Nota3 del alumno: \"))\n",
    "        bandera_nota3 = evaluar_nota3(nota3)\n",
    "    alumno_diccionario = llenado_datos(nombre,nota1,nota2,nota3,cont)\n",
    "    lista.append(alumno_diccionario) \n",
    "    cont += 1\n",
    "print(lista)"
   ]
  },
  {
   "cell_type": "markdown",
   "metadata": {},
   "source": [
    "### 2.\n",
    "Definir una función que dado un listado de alumnos evalúe cuántos aprobaron y cuántos desaprobaron, teniendo en cuenta que se aprueba con 4. La nota será el promedio de las 3 notas para cada alumno."
   ]
  },
  {
   "cell_type": "code",
   "execution_count": null,
   "metadata": {},
   "outputs": [],
   "source": [
    "def promedio_alumno(lista_alumno) :\n",
    "   promedio = list()\n",
    "   for index, valor in enumerate(lista_alumno) :\n",
    "       diccionario = dict(lista_alumno[index])\n",
    "       suma = 0\n",
    "       prom = 0\n",
    "       for key, val in diccionario.items() :\n",
    "           if key == \"Nota1\" or key == \"Nota2\" or key == \"Nota3\" :\n",
    "               suma += val\n",
    "       prom = suma / 3 \n",
    "       promedio.append(round(prom,2))\n",
    "       list(lista_alumno)\n",
    "   return promedio "
   ]
  },
  {
   "cell_type": "code",
   "execution_count": null,
   "metadata": {},
   "outputs": [],
   "source": [
    "promedio_por_alumno = promedio_alumno(lista)\n",
    "print(promedio_por_alumno)\n",
    "                                        #aprob,#cant\n",
    "def alumno_sin_rojo(promedio_por_alumno,aprobo,cantidad) :\n",
    "    for indice, valor in enumerate(promedio_por_alumno) :\n",
    "        if promedio_por_alumno[indice] >= 4 :\n",
    "            aprobo += 1\n",
    "    return \"\\nDe los {} alumnos ingresados, sólo {} aprobaron\".format(cantidad,aprobo)"
   ]
  },
  {
   "cell_type": "code",
   "execution_count": null,
   "metadata": {},
   "outputs": [],
   "source": [
    "aprob = 0\n",
    "print(alumno_sin_rojo(promedio_por_alumno,aprob,cant))"
   ]
  },
  {
   "cell_type": "markdown",
   "metadata": {},
   "source": [
    "### 3.\n",
    "Informar el promedio de nota del curso total."
   ]
  },
  {
   "cell_type": "code",
   "execution_count": null,
   "metadata": {},
   "outputs": [],
   "source": [
    "def promedio_curso_total(promedio_por_alumno,prom_total,sum_total,cantidad) :\n",
    "    for indice, valor in enumerate(promedio_por_alumno) :\n",
    "        sum_total += promedio_por_alumno[indice]\n",
    "    prom_total = sum_total / cantidad\n",
    "    return prom_total"
   ]
  },
  {
   "cell_type": "code",
   "execution_count": null,
   "metadata": {},
   "outputs": [],
   "source": [
    "promedio_total = 0\n",
    "suma_total = 0\n",
    "\n",
    "print(\"\\nEl promedio del curso total es:\",round(promedio_curso_total(promedio_por_alumno,promedio_total,suma_total,cant),2))"
   ]
  },
  {
   "cell_type": "markdown",
   "metadata": {},
   "source": [
    "### 4.\n",
    "Realizar una función que indique quién tuvo el promedio más alto y quién tuvo la nota promedio más baja."
   ]
  },
  {
   "cell_type": "code",
   "execution_count": null,
   "metadata": {},
   "outputs": [],
   "source": [
    "def nota_mayor(maximo, promedio_por_alumno, lista_alumno) :\n",
    "    for indice, valor in enumerate(promedio_por_alumno) :\n",
    "        if maximo < promedio_por_alumno[indice] :\n",
    "            maximo = promedio_por_alumno[indice]\n",
    "            indice_max = indice\n",
    "    return indice_max"
   ]
  },
  {
   "cell_type": "code",
   "execution_count": null,
   "metadata": {},
   "outputs": [],
   "source": [
    "def nota_menor(minimo, promedio_por_alumno, lista_alumno) :\n",
    "    for indice, valor in enumerate(promedio_por_alumno) :\n",
    "        if minimo > promedio_por_alumno[indice] :\n",
    "            minimo = promedio_por_alumno[indice]\n",
    "            indice_min = indice\n",
    "    return indice_min\n",
    "    return \"El alumno que sacó mayor nota es: {} \\nPromedio: {}\".format(lista_alumno[indice_min],promedio_por_alumno[indice_min])"
   ]
  },
  {
   "cell_type": "code",
   "execution_count": null,
   "metadata": {},
   "outputs": [],
   "source": [
    "maxi = 0\n",
    "indice_maximo = nota_mayor(maxi, promedio_por_alumno, lista) \n",
    "print(\"\\nEl alumno que sacó mayor nota es: {} \\nPromedio: {}\".format(lista[indice_maximo],promedio_por_alumno[indice_maximo]))"
   ]
  },
  {
   "cell_type": "code",
   "execution_count": null,
   "metadata": {},
   "outputs": [],
   "source": [
    "mini = 11\n",
    "indice_minimo = nota_menor(mini, promedio_por_alumno, lista)\n",
    "print(\"El alumno que sacó mayor nota es: {} \\nPromedio: {}\".format(lista[indice_minimo],promedio_por_alumno[indice_minimo]))"
   ]
  },
  {
   "cell_type": "markdown",
   "metadata": {},
   "source": [
    "### 5.\n",
    "Realizar una función que permita buscar un alumno por nombre, siendo el nombre completo o parcial, y devuelva una lista con los n alumnos que concuerden con ese nombre junto con todos sus datos, incluido el promedio de sus notas."
   ]
  },
  {
   "cell_type": "code",
   "execution_count": null,
   "metadata": {},
   "outputs": [],
   "source": [
    "def buscar_alumno(nomb, lista_alumno) :\n",
    "    for index, valor in enumerate(lista_alumno) :\n",
    "        diccionario = dict(lista_alumno[index]) \n",
    "        for key, val in diccionario.items() :\n",
    "            if val == nomb :\n",
    "                i = index\n",
    "        list(lista_alumno)\n",
    "        \n",
    "    return i"
   ]
  },
  {
   "cell_type": "code",
   "execution_count": null,
   "metadata": {},
   "outputs": [],
   "source": [
    "name = input(\"\\nDigite el nombre completo a buscar: \").upper()\n",
    "iterador = buscar_alumno(name, lista)"
   ]
  },
  {
   "cell_type": "code",
   "execution_count": null,
   "metadata": {},
   "outputs": [],
   "source": [
    "print(\"\")\n",
    "print(lista[iterador])\n",
    "print(\"Promedio: {}\".format(promedio_por_alumno[iterador]))"
   ]
  }
 ],
 "metadata": {
  "kernelspec": {
   "display_name": "Python 3",
   "language": "python",
   "name": "python3"
  },
  "language_info": {
   "codemirror_mode": {
    "name": "ipython",
    "version": 3
   },
   "file_extension": ".py",
   "mimetype": "text/x-python",
   "name": "python",
   "nbconvert_exporter": "python",
   "pygments_lexer": "ipython3",
   "version": "3.8.5"
  }
 },
 "nbformat": 4,
 "nbformat_minor": 4
}
